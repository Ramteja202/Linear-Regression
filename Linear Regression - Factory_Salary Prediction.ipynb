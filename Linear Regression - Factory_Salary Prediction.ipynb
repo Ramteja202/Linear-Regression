{
 "cells": [
  {
   "cell_type": "markdown",
   "metadata": {},
   "source": [
    "# Linear Regression"
   ]
  },
  {
   "cell_type": "markdown",
   "metadata": {},
   "source": [
    "# Import the Libraries"
   ]
  },
  {
   "cell_type": "code",
   "execution_count": 1,
   "metadata": {},
   "outputs": [],
   "source": [
    "import warnings\n",
    "warnings.simplefilter('ignore')"
   ]
  },
  {
   "cell_type": "markdown",
   "metadata": {},
   "source": [
    "# Import Numpy and Pandas Libraries"
   ]
  },
  {
   "cell_type": "code",
   "execution_count": 2,
   "metadata": {},
   "outputs": [],
   "source": [
    "import numpy as np\n",
    "import pandas as pd"
   ]
  },
  {
   "cell_type": "markdown",
   "metadata": {},
   "source": [
    "# Import data visualization libraries"
   ]
  },
  {
   "cell_type": "code",
   "execution_count": 3,
   "metadata": {},
   "outputs": [],
   "source": [
    "import matplotlib.pyplot as plt\n",
    "%matplotlib inline"
   ]
  },
  {
   "cell_type": "markdown",
   "metadata": {},
   "source": [
    "# Import the dataset"
   ]
  },
  {
   "cell_type": "code",
   "execution_count": 4,
   "metadata": {},
   "outputs": [],
   "source": [
    "dataset = pd.read_csv('Factory_Salary.csv')"
   ]
  },
  {
   "cell_type": "code",
   "execution_count": 5,
   "metadata": {},
   "outputs": [
    {
     "data": {
      "text/html": [
       "<div>\n",
       "<style scoped>\n",
       "    .dataframe tbody tr th:only-of-type {\n",
       "        vertical-align: middle;\n",
       "    }\n",
       "\n",
       "    .dataframe tbody tr th {\n",
       "        vertical-align: top;\n",
       "    }\n",
       "\n",
       "    .dataframe thead th {\n",
       "        text-align: right;\n",
       "    }\n",
       "</style>\n",
       "<table border=\"1\" class=\"dataframe\">\n",
       "  <thead>\n",
       "    <tr style=\"text-align: right;\">\n",
       "      <th></th>\n",
       "      <th>Date</th>\n",
       "      <th>Profession</th>\n",
       "      <th>Rank</th>\n",
       "      <th>Equipment</th>\n",
       "      <th>Insalubrity</th>\n",
       "      <th>Size_Production</th>\n",
       "      <th>Salary</th>\n",
       "    </tr>\n",
       "  </thead>\n",
       "  <tbody>\n",
       "    <tr>\n",
       "      <th>0</th>\n",
       "      <td>01-01-2009</td>\n",
       "      <td>Metal heater</td>\n",
       "      <td>7</td>\n",
       "      <td>Heating furnaces</td>\n",
       "      <td>22</td>\n",
       "      <td>580</td>\n",
       "      <td>26020.00000</td>\n",
       "    </tr>\n",
       "    <tr>\n",
       "      <th>1</th>\n",
       "      <td>01-01-2009</td>\n",
       "      <td>Metal heater</td>\n",
       "      <td>6</td>\n",
       "      <td>Heating furnaces</td>\n",
       "      <td>22</td>\n",
       "      <td>580</td>\n",
       "      <td>22980.00000</td>\n",
       "    </tr>\n",
       "    <tr>\n",
       "      <th>2</th>\n",
       "      <td>01-01-2009</td>\n",
       "      <td>Metal heater</td>\n",
       "      <td>5</td>\n",
       "      <td>Heating furnaces</td>\n",
       "      <td>22</td>\n",
       "      <td>580</td>\n",
       "      <td>20350.00000</td>\n",
       "    </tr>\n",
       "    <tr>\n",
       "      <th>3</th>\n",
       "      <td>01-01-2009</td>\n",
       "      <td>Metal heater</td>\n",
       "      <td>5</td>\n",
       "      <td>Heating furnaces</td>\n",
       "      <td>22</td>\n",
       "      <td>580</td>\n",
       "      <td>20350.00000</td>\n",
       "    </tr>\n",
       "    <tr>\n",
       "      <th>4</th>\n",
       "      <td>01-01-2009</td>\n",
       "      <td>Metal heater</td>\n",
       "      <td>4</td>\n",
       "      <td>Heating furnaces</td>\n",
       "      <td>22</td>\n",
       "      <td>580</td>\n",
       "      <td>18090.00000</td>\n",
       "    </tr>\n",
       "    <tr>\n",
       "      <th>...</th>\n",
       "      <td>...</td>\n",
       "      <td>...</td>\n",
       "      <td>...</td>\n",
       "      <td>...</td>\n",
       "      <td>...</td>\n",
       "      <td>...</td>\n",
       "      <td>...</td>\n",
       "    </tr>\n",
       "    <tr>\n",
       "      <th>259</th>\n",
       "      <td>01-08-2009</td>\n",
       "      <td>Quality controller</td>\n",
       "      <td>7</td>\n",
       "      <td>Control and measuring equipment</td>\n",
       "      <td>0</td>\n",
       "      <td>1180</td>\n",
       "      <td>26342.23529</td>\n",
       "    </tr>\n",
       "    <tr>\n",
       "      <th>260</th>\n",
       "      <td>01-09-2009</td>\n",
       "      <td>Quality controller</td>\n",
       "      <td>7</td>\n",
       "      <td>Control and measuring equipment</td>\n",
       "      <td>0</td>\n",
       "      <td>1080</td>\n",
       "      <td>25044.58824</td>\n",
       "    </tr>\n",
       "    <tr>\n",
       "      <th>261</th>\n",
       "      <td>01-10-2009</td>\n",
       "      <td>Quality controller</td>\n",
       "      <td>7</td>\n",
       "      <td>Control and measuring equipment</td>\n",
       "      <td>0</td>\n",
       "      <td>780</td>\n",
       "      <td>22060.00000</td>\n",
       "    </tr>\n",
       "    <tr>\n",
       "      <th>262</th>\n",
       "      <td>01-11-2009</td>\n",
       "      <td>Quality controller</td>\n",
       "      <td>7</td>\n",
       "      <td>Control and measuring equipment</td>\n",
       "      <td>0</td>\n",
       "      <td>1020</td>\n",
       "      <td>24266.00000</td>\n",
       "    </tr>\n",
       "    <tr>\n",
       "      <th>263</th>\n",
       "      <td>01-12-2009</td>\n",
       "      <td>Quality controller</td>\n",
       "      <td>7</td>\n",
       "      <td>Control and measuring equipment</td>\n",
       "      <td>0</td>\n",
       "      <td>810</td>\n",
       "      <td>22060.00000</td>\n",
       "    </tr>\n",
       "  </tbody>\n",
       "</table>\n",
       "<p>264 rows × 7 columns</p>\n",
       "</div>"
      ],
      "text/plain": [
       "           Date          Profession  Rank                        Equipment  \\\n",
       "0    01-01-2009        Metal heater     7                 Heating furnaces   \n",
       "1    01-01-2009        Metal heater     6                 Heating furnaces   \n",
       "2    01-01-2009        Metal heater     5                 Heating furnaces   \n",
       "3    01-01-2009        Metal heater     5                 Heating furnaces   \n",
       "4    01-01-2009        Metal heater     4                 Heating furnaces   \n",
       "..          ...                 ...   ...                              ...   \n",
       "259  01-08-2009  Quality controller     7  Control and measuring equipment   \n",
       "260  01-09-2009  Quality controller     7  Control and measuring equipment   \n",
       "261  01-10-2009  Quality controller     7  Control and measuring equipment   \n",
       "262  01-11-2009  Quality controller     7  Control and measuring equipment   \n",
       "263  01-12-2009  Quality controller     7  Control and measuring equipment   \n",
       "\n",
       "     Insalubrity  Size_Production       Salary  \n",
       "0             22              580  26020.00000  \n",
       "1             22              580  22980.00000  \n",
       "2             22              580  20350.00000  \n",
       "3             22              580  20350.00000  \n",
       "4             22              580  18090.00000  \n",
       "..           ...              ...          ...  \n",
       "259            0             1180  26342.23529  \n",
       "260            0             1080  25044.58824  \n",
       "261            0              780  22060.00000  \n",
       "262            0             1020  24266.00000  \n",
       "263            0              810  22060.00000  \n",
       "\n",
       "[264 rows x 7 columns]"
      ]
     },
     "execution_count": 5,
     "metadata": {},
     "output_type": "execute_result"
    }
   ],
   "source": [
    "dataset"
   ]
  },
  {
   "cell_type": "markdown",
   "metadata": {},
   "source": [
    "# Understand the dataset"
   ]
  },
  {
   "cell_type": "code",
   "execution_count": 8,
   "metadata": {},
   "outputs": [
    {
     "data": {
      "text/plain": [
       "(264, 7)"
      ]
     },
     "execution_count": 8,
     "metadata": {},
     "output_type": "execute_result"
    }
   ],
   "source": [
    "dataset.shape"
   ]
  },
  {
   "cell_type": "code",
   "execution_count": 9,
   "metadata": {},
   "outputs": [
    {
     "data": {
      "text/html": [
       "<div>\n",
       "<style scoped>\n",
       "    .dataframe tbody tr th:only-of-type {\n",
       "        vertical-align: middle;\n",
       "    }\n",
       "\n",
       "    .dataframe tbody tr th {\n",
       "        vertical-align: top;\n",
       "    }\n",
       "\n",
       "    .dataframe thead th {\n",
       "        text-align: right;\n",
       "    }\n",
       "</style>\n",
       "<table border=\"1\" class=\"dataframe\">\n",
       "  <thead>\n",
       "    <tr style=\"text-align: right;\">\n",
       "      <th></th>\n",
       "      <th>Date</th>\n",
       "      <th>Profession</th>\n",
       "      <th>Rank</th>\n",
       "      <th>Equipment</th>\n",
       "      <th>Insalubrity</th>\n",
       "      <th>Size_Production</th>\n",
       "      <th>Salary</th>\n",
       "    </tr>\n",
       "  </thead>\n",
       "  <tbody>\n",
       "    <tr>\n",
       "      <th>0</th>\n",
       "      <td>01-01-2009</td>\n",
       "      <td>Metal heater</td>\n",
       "      <td>7</td>\n",
       "      <td>Heating furnaces</td>\n",
       "      <td>22</td>\n",
       "      <td>580</td>\n",
       "      <td>26020.0</td>\n",
       "    </tr>\n",
       "    <tr>\n",
       "      <th>1</th>\n",
       "      <td>01-01-2009</td>\n",
       "      <td>Metal heater</td>\n",
       "      <td>6</td>\n",
       "      <td>Heating furnaces</td>\n",
       "      <td>22</td>\n",
       "      <td>580</td>\n",
       "      <td>22980.0</td>\n",
       "    </tr>\n",
       "    <tr>\n",
       "      <th>2</th>\n",
       "      <td>01-01-2009</td>\n",
       "      <td>Metal heater</td>\n",
       "      <td>5</td>\n",
       "      <td>Heating furnaces</td>\n",
       "      <td>22</td>\n",
       "      <td>580</td>\n",
       "      <td>20350.0</td>\n",
       "    </tr>\n",
       "    <tr>\n",
       "      <th>3</th>\n",
       "      <td>01-01-2009</td>\n",
       "      <td>Metal heater</td>\n",
       "      <td>5</td>\n",
       "      <td>Heating furnaces</td>\n",
       "      <td>22</td>\n",
       "      <td>580</td>\n",
       "      <td>20350.0</td>\n",
       "    </tr>\n",
       "    <tr>\n",
       "      <th>4</th>\n",
       "      <td>01-01-2009</td>\n",
       "      <td>Metal heater</td>\n",
       "      <td>4</td>\n",
       "      <td>Heating furnaces</td>\n",
       "      <td>22</td>\n",
       "      <td>580</td>\n",
       "      <td>18090.0</td>\n",
       "    </tr>\n",
       "  </tbody>\n",
       "</table>\n",
       "</div>"
      ],
      "text/plain": [
       "         Date    Profession  Rank         Equipment  Insalubrity  \\\n",
       "0  01-01-2009  Metal heater     7  Heating furnaces           22   \n",
       "1  01-01-2009  Metal heater     6  Heating furnaces           22   \n",
       "2  01-01-2009  Metal heater     5  Heating furnaces           22   \n",
       "3  01-01-2009  Metal heater     5  Heating furnaces           22   \n",
       "4  01-01-2009  Metal heater     4  Heating furnaces           22   \n",
       "\n",
       "   Size_Production   Salary  \n",
       "0              580  26020.0  \n",
       "1              580  22980.0  \n",
       "2              580  20350.0  \n",
       "3              580  20350.0  \n",
       "4              580  18090.0  "
      ]
     },
     "execution_count": 9,
     "metadata": {},
     "output_type": "execute_result"
    }
   ],
   "source": [
    "dataset.head()"
   ]
  },
  {
   "cell_type": "markdown",
   "metadata": {},
   "source": [
    "# Slicing the dataset"
   ]
  },
  {
   "cell_type": "code",
   "execution_count": 11,
   "metadata": {},
   "outputs": [],
   "source": [
    "dataset = dataset.drop(['Date','Profession','Equipment','Insalubrity','Rank'],axis = 1)"
   ]
  },
  {
   "cell_type": "code",
   "execution_count": 12,
   "metadata": {},
   "outputs": [
    {
     "data": {
      "text/html": [
       "<div>\n",
       "<style scoped>\n",
       "    .dataframe tbody tr th:only-of-type {\n",
       "        vertical-align: middle;\n",
       "    }\n",
       "\n",
       "    .dataframe tbody tr th {\n",
       "        vertical-align: top;\n",
       "    }\n",
       "\n",
       "    .dataframe thead th {\n",
       "        text-align: right;\n",
       "    }\n",
       "</style>\n",
       "<table border=\"1\" class=\"dataframe\">\n",
       "  <thead>\n",
       "    <tr style=\"text-align: right;\">\n",
       "      <th></th>\n",
       "      <th>Size_Production</th>\n",
       "      <th>Salary</th>\n",
       "    </tr>\n",
       "  </thead>\n",
       "  <tbody>\n",
       "    <tr>\n",
       "      <th>0</th>\n",
       "      <td>580</td>\n",
       "      <td>26020.00000</td>\n",
       "    </tr>\n",
       "    <tr>\n",
       "      <th>1</th>\n",
       "      <td>580</td>\n",
       "      <td>22980.00000</td>\n",
       "    </tr>\n",
       "    <tr>\n",
       "      <th>2</th>\n",
       "      <td>580</td>\n",
       "      <td>20350.00000</td>\n",
       "    </tr>\n",
       "    <tr>\n",
       "      <th>3</th>\n",
       "      <td>580</td>\n",
       "      <td>20350.00000</td>\n",
       "    </tr>\n",
       "    <tr>\n",
       "      <th>4</th>\n",
       "      <td>580</td>\n",
       "      <td>18090.00000</td>\n",
       "    </tr>\n",
       "    <tr>\n",
       "      <th>...</th>\n",
       "      <td>...</td>\n",
       "      <td>...</td>\n",
       "    </tr>\n",
       "    <tr>\n",
       "      <th>259</th>\n",
       "      <td>1180</td>\n",
       "      <td>26342.23529</td>\n",
       "    </tr>\n",
       "    <tr>\n",
       "      <th>260</th>\n",
       "      <td>1080</td>\n",
       "      <td>25044.58824</td>\n",
       "    </tr>\n",
       "    <tr>\n",
       "      <th>261</th>\n",
       "      <td>780</td>\n",
       "      <td>22060.00000</td>\n",
       "    </tr>\n",
       "    <tr>\n",
       "      <th>262</th>\n",
       "      <td>1020</td>\n",
       "      <td>24266.00000</td>\n",
       "    </tr>\n",
       "    <tr>\n",
       "      <th>263</th>\n",
       "      <td>810</td>\n",
       "      <td>22060.00000</td>\n",
       "    </tr>\n",
       "  </tbody>\n",
       "</table>\n",
       "<p>264 rows × 2 columns</p>\n",
       "</div>"
      ],
      "text/plain": [
       "     Size_Production       Salary\n",
       "0                580  26020.00000\n",
       "1                580  22980.00000\n",
       "2                580  20350.00000\n",
       "3                580  20350.00000\n",
       "4                580  18090.00000\n",
       "..               ...          ...\n",
       "259             1180  26342.23529\n",
       "260             1080  25044.58824\n",
       "261              780  22060.00000\n",
       "262             1020  24266.00000\n",
       "263              810  22060.00000\n",
       "\n",
       "[264 rows x 2 columns]"
      ]
     },
     "execution_count": 12,
     "metadata": {},
     "output_type": "execute_result"
    }
   ],
   "source": [
    "dataset"
   ]
  },
  {
   "cell_type": "code",
   "execution_count": 15,
   "metadata": {},
   "outputs": [],
   "source": [
    "x = dataset.iloc[:,0]"
   ]
  },
  {
   "cell_type": "code",
   "execution_count": 16,
   "metadata": {},
   "outputs": [
    {
     "data": {
      "text/plain": [
       "(264,)"
      ]
     },
     "execution_count": 16,
     "metadata": {},
     "output_type": "execute_result"
    }
   ],
   "source": [
    "x.shape"
   ]
  },
  {
   "cell_type": "code",
   "execution_count": 17,
   "metadata": {},
   "outputs": [
    {
     "data": {
      "text/plain": [
       "0       580\n",
       "1       580\n",
       "2       580\n",
       "3       580\n",
       "4       580\n",
       "       ... \n",
       "259    1180\n",
       "260    1080\n",
       "261     780\n",
       "262    1020\n",
       "263     810\n",
       "Name: Size_Production, Length: 264, dtype: int64"
      ]
     },
     "execution_count": 17,
     "metadata": {},
     "output_type": "execute_result"
    }
   ],
   "source": [
    "x"
   ]
  },
  {
   "cell_type": "code",
   "execution_count": 18,
   "metadata": {},
   "outputs": [],
   "source": [
    "x = dataset.iloc[:,0].values.reshape(-1,1)"
   ]
  },
  {
   "cell_type": "code",
   "execution_count": 19,
   "metadata": {},
   "outputs": [
    {
     "data": {
      "text/plain": [
       "(264, 1)"
      ]
     },
     "execution_count": 19,
     "metadata": {},
     "output_type": "execute_result"
    }
   ],
   "source": [
    "x.shape"
   ]
  },
  {
   "cell_type": "code",
   "execution_count": 20,
   "metadata": {},
   "outputs": [
    {
     "data": {
      "text/plain": [
       "array([[ 580],\n",
       "       [ 580],\n",
       "       [ 580],\n",
       "       [ 580],\n",
       "       [ 580],\n",
       "       [ 580],\n",
       "       [ 580],\n",
       "       [ 580],\n",
       "       [ 580],\n",
       "       [ 580],\n",
       "       [ 580],\n",
       "       [ 580],\n",
       "       [ 580],\n",
       "       [ 580],\n",
       "       [ 580],\n",
       "       [ 580],\n",
       "       [ 580],\n",
       "       [ 580],\n",
       "       [ 580],\n",
       "       [ 580],\n",
       "       [ 790],\n",
       "       [ 790],\n",
       "       [ 790],\n",
       "       [ 790],\n",
       "       [ 790],\n",
       "       [ 790],\n",
       "       [ 790],\n",
       "       [ 790],\n",
       "       [ 790],\n",
       "       [ 790],\n",
       "       [ 790],\n",
       "       [ 790],\n",
       "       [ 790],\n",
       "       [ 790],\n",
       "       [ 790],\n",
       "       [ 790],\n",
       "       [ 790],\n",
       "       [ 790],\n",
       "       [ 790],\n",
       "       [ 790],\n",
       "       [ 820],\n",
       "       [ 820],\n",
       "       [ 820],\n",
       "       [ 820],\n",
       "       [ 820],\n",
       "       [ 820],\n",
       "       [ 820],\n",
       "       [ 820],\n",
       "       [ 820],\n",
       "       [ 820],\n",
       "       [ 820],\n",
       "       [ 820],\n",
       "       [ 820],\n",
       "       [ 820],\n",
       "       [ 820],\n",
       "       [ 820],\n",
       "       [ 820],\n",
       "       [ 820],\n",
       "       [ 820],\n",
       "       [ 820],\n",
       "       [1200],\n",
       "       [1200],\n",
       "       [1200],\n",
       "       [1200],\n",
       "       [1200],\n",
       "       [1200],\n",
       "       [1200],\n",
       "       [1200],\n",
       "       [1200],\n",
       "       [1200],\n",
       "       [1200],\n",
       "       [1200],\n",
       "       [1200],\n",
       "       [1200],\n",
       "       [1200],\n",
       "       [1200],\n",
       "       [1200],\n",
       "       [1200],\n",
       "       [1200],\n",
       "       [1200],\n",
       "       [1250],\n",
       "       [1250],\n",
       "       [1250],\n",
       "       [1250],\n",
       "       [1250],\n",
       "       [1250],\n",
       "       [1250],\n",
       "       [1250],\n",
       "       [1250],\n",
       "       [1250],\n",
       "       [1250],\n",
       "       [1250],\n",
       "       [1250],\n",
       "       [1250],\n",
       "       [1250],\n",
       "       [1250],\n",
       "       [1250],\n",
       "       [1250],\n",
       "       [1250],\n",
       "       [1250],\n",
       "       [ 950],\n",
       "       [ 950],\n",
       "       [ 950],\n",
       "       [ 950],\n",
       "       [ 950],\n",
       "       [ 950],\n",
       "       [ 950],\n",
       "       [ 950],\n",
       "       [ 950],\n",
       "       [ 950],\n",
       "       [ 950],\n",
       "       [ 950],\n",
       "       [ 950],\n",
       "       [ 950],\n",
       "       [ 950],\n",
       "       [ 950],\n",
       "       [ 950],\n",
       "       [ 950],\n",
       "       [ 950],\n",
       "       [ 950],\n",
       "       [1400],\n",
       "       [1400],\n",
       "       [1400],\n",
       "       [1400],\n",
       "       [1400],\n",
       "       [1400],\n",
       "       [1400],\n",
       "       [1400],\n",
       "       [1400],\n",
       "       [1400],\n",
       "       [1400],\n",
       "       [1400],\n",
       "       [1400],\n",
       "       [1400],\n",
       "       [1400],\n",
       "       [1400],\n",
       "       [1400],\n",
       "       [1400],\n",
       "       [1400],\n",
       "       [1400],\n",
       "       [1180],\n",
       "       [1180],\n",
       "       [1180],\n",
       "       [1180],\n",
       "       [1180],\n",
       "       [1180],\n",
       "       [1180],\n",
       "       [1180],\n",
       "       [1180],\n",
       "       [1180],\n",
       "       [1180],\n",
       "       [1180],\n",
       "       [1180],\n",
       "       [1180],\n",
       "       [1180],\n",
       "       [1180],\n",
       "       [1180],\n",
       "       [1180],\n",
       "       [1180],\n",
       "       [1180],\n",
       "       [1080],\n",
       "       [1080],\n",
       "       [1080],\n",
       "       [1080],\n",
       "       [1080],\n",
       "       [1080],\n",
       "       [1080],\n",
       "       [1080],\n",
       "       [1080],\n",
       "       [1080],\n",
       "       [1080],\n",
       "       [1080],\n",
       "       [1080],\n",
       "       [1080],\n",
       "       [1080],\n",
       "       [1080],\n",
       "       [1080],\n",
       "       [1080],\n",
       "       [1080],\n",
       "       [1080],\n",
       "       [ 780],\n",
       "       [ 780],\n",
       "       [ 780],\n",
       "       [ 780],\n",
       "       [ 780],\n",
       "       [ 780],\n",
       "       [ 780],\n",
       "       [ 780],\n",
       "       [ 780],\n",
       "       [ 780],\n",
       "       [ 780],\n",
       "       [ 780],\n",
       "       [ 780],\n",
       "       [ 780],\n",
       "       [ 780],\n",
       "       [ 780],\n",
       "       [ 780],\n",
       "       [ 780],\n",
       "       [ 780],\n",
       "       [ 780],\n",
       "       [1020],\n",
       "       [1020],\n",
       "       [1020],\n",
       "       [1020],\n",
       "       [1020],\n",
       "       [1020],\n",
       "       [1020],\n",
       "       [1020],\n",
       "       [1020],\n",
       "       [1020],\n",
       "       [1020],\n",
       "       [1020],\n",
       "       [1020],\n",
       "       [1020],\n",
       "       [1020],\n",
       "       [1020],\n",
       "       [1020],\n",
       "       [1020],\n",
       "       [1020],\n",
       "       [1020],\n",
       "       [ 810],\n",
       "       [ 810],\n",
       "       [ 810],\n",
       "       [ 810],\n",
       "       [ 810],\n",
       "       [ 810],\n",
       "       [ 810],\n",
       "       [ 810],\n",
       "       [ 810],\n",
       "       [ 810],\n",
       "       [ 810],\n",
       "       [ 810],\n",
       "       [ 810],\n",
       "       [ 810],\n",
       "       [ 810],\n",
       "       [ 810],\n",
       "       [ 810],\n",
       "       [ 810],\n",
       "       [ 810],\n",
       "       [ 810],\n",
       "       [ 580],\n",
       "       [ 790],\n",
       "       [ 820],\n",
       "       [1200],\n",
       "       [1250],\n",
       "       [ 950],\n",
       "       [1400],\n",
       "       [1180],\n",
       "       [1080],\n",
       "       [ 780],\n",
       "       [1020],\n",
       "       [ 810],\n",
       "       [ 580],\n",
       "       [ 790],\n",
       "       [ 820],\n",
       "       [1200],\n",
       "       [1250],\n",
       "       [ 950],\n",
       "       [1400],\n",
       "       [1180],\n",
       "       [1080],\n",
       "       [ 780],\n",
       "       [1020],\n",
       "       [ 810]], dtype=int64)"
      ]
     },
     "execution_count": 20,
     "metadata": {},
     "output_type": "execute_result"
    }
   ],
   "source": [
    "x"
   ]
  },
  {
   "cell_type": "code",
   "execution_count": 21,
   "metadata": {},
   "outputs": [],
   "source": [
    "y = dataset.iloc[:,-1].values.reshape(-1,1)"
   ]
  },
  {
   "cell_type": "code",
   "execution_count": 22,
   "metadata": {},
   "outputs": [
    {
     "data": {
      "text/plain": [
       "(264, 1)"
      ]
     },
     "execution_count": 22,
     "metadata": {},
     "output_type": "execute_result"
    }
   ],
   "source": [
    "y.shape"
   ]
  },
  {
   "cell_type": "code",
   "execution_count": 23,
   "metadata": {},
   "outputs": [
    {
     "data": {
      "text/plain": [
       "array([[26020.     ],\n",
       "       [22980.     ],\n",
       "       [20350.     ],\n",
       "       [20350.     ],\n",
       "       [18090.     ],\n",
       "       [18090.     ],\n",
       "       [16110.     ],\n",
       "       [25300.     ],\n",
       "       [22260.     ],\n",
       "       [17370.     ],\n",
       "       [25300.     ],\n",
       "       [22260.     ],\n",
       "       [17370.     ],\n",
       "       [15420.     ],\n",
       "       [17010.     ],\n",
       "       [15420.     ],\n",
       "       [19630.     ],\n",
       "       [17830.     ],\n",
       "       [17830.     ],\n",
       "       [15570.     ],\n",
       "       [26020.     ],\n",
       "       [22980.     ],\n",
       "       [20350.     ],\n",
       "       [20350.     ],\n",
       "       [18090.     ],\n",
       "       [18090.     ],\n",
       "       [16110.     ],\n",
       "       [25300.     ],\n",
       "       [22260.     ],\n",
       "       [17370.     ],\n",
       "       [25300.     ],\n",
       "       [22260.     ],\n",
       "       [17370.     ],\n",
       "       [15420.     ],\n",
       "       [17010.     ],\n",
       "       [15420.     ],\n",
       "       [19630.     ],\n",
       "       [17830.     ],\n",
       "       [17830.     ],\n",
       "       [15570.     ],\n",
       "       [26020.     ],\n",
       "       [22980.     ],\n",
       "       [20350.     ],\n",
       "       [20350.     ],\n",
       "       [18090.     ],\n",
       "       [18090.     ],\n",
       "       [16110.     ],\n",
       "       [25300.     ],\n",
       "       [22260.     ],\n",
       "       [17370.     ],\n",
       "       [25300.     ],\n",
       "       [22260.     ],\n",
       "       [17370.     ],\n",
       "       [15420.     ],\n",
       "       [17010.     ],\n",
       "       [15420.     ],\n",
       "       [19630.     ],\n",
       "       [17830.     ],\n",
       "       [17830.     ],\n",
       "       [15570.     ],\n",
       "       [30561.76471],\n",
       "       [26895.88235],\n",
       "       [23724.41176],\n",
       "       [23724.41176],\n",
       "       [20999.11765],\n",
       "       [20999.11765],\n",
       "       [19019.11765],\n",
       "       [29841.76471],\n",
       "       [26175.88235],\n",
       "       [20279.11765],\n",
       "       [29841.76471],\n",
       "       [26175.88235],\n",
       "       [20279.11765],\n",
       "       [17927.64706],\n",
       "       [19919.11765],\n",
       "       [17927.64706],\n",
       "       [23004.41176],\n",
       "       [21204.41176],\n",
       "       [21204.41176],\n",
       "       [18479.11765],\n",
       "       [31210.58824],\n",
       "       [27455.29412],\n",
       "       [24206.47059],\n",
       "       [24206.47059],\n",
       "       [21414.70588],\n",
       "       [21414.70588],\n",
       "       [19434.70588],\n",
       "       [30490.58824],\n",
       "       [26735.29412],\n",
       "       [20694.70588],\n",
       "       [30490.58824],\n",
       "       [26735.29412],\n",
       "       [20694.70588],\n",
       "       [18285.88235],\n",
       "       [20334.70588],\n",
       "       [18285.88235],\n",
       "       [23486.47059],\n",
       "       [21686.47059],\n",
       "       [21686.47059],\n",
       "       [18894.70588],\n",
       "       [27317.64706],\n",
       "       [24098.82353],\n",
       "       [21314.11765],\n",
       "       [21314.11765],\n",
       "       [18921.17647],\n",
       "       [18921.17647],\n",
       "       [16941.17647],\n",
       "       [26597.64706],\n",
       "       [23378.82353],\n",
       "       [18201.17647],\n",
       "       [26597.64706],\n",
       "       [23378.82353],\n",
       "       [18201.17647],\n",
       "       [16136.47059],\n",
       "       [17841.17647],\n",
       "       [16136.47059],\n",
       "       [20594.11765],\n",
       "       [18794.11765],\n",
       "       [18794.11765],\n",
       "       [16401.17647],\n",
       "       [33157.05882],\n",
       "       [29133.52941],\n",
       "       [25652.64706],\n",
       "       [25652.64706],\n",
       "       [22661.47059],\n",
       "       [22661.47059],\n",
       "       [20681.47059],\n",
       "       [32437.05882],\n",
       "       [28413.52941],\n",
       "       [21941.47059],\n",
       "       [32437.05882],\n",
       "       [28413.52941],\n",
       "       [21941.47059],\n",
       "       [19360.58824],\n",
       "       [21581.47059],\n",
       "       [19360.58824],\n",
       "       [24932.64706],\n",
       "       [23132.64706],\n",
       "       [23132.64706],\n",
       "       [20141.47059],\n",
       "       [30302.23529],\n",
       "       [26672.11765],\n",
       "       [23531.58824],\n",
       "       [23531.58824],\n",
       "       [20832.88235],\n",
       "       [20832.88235],\n",
       "       [18852.88235],\n",
       "       [29582.23529],\n",
       "       [25952.11765],\n",
       "       [20112.88235],\n",
       "       [29582.23529],\n",
       "       [25952.11765],\n",
       "       [20112.88235],\n",
       "       [17784.35294],\n",
       "       [19752.88235],\n",
       "       [17784.35294],\n",
       "       [22811.58824],\n",
       "       [21011.58824],\n",
       "       [21011.58824],\n",
       "       [18312.88235],\n",
       "       [29004.58824],\n",
       "       [25553.29412],\n",
       "       [22567.47059],\n",
       "       [22567.47059],\n",
       "       [20001.70588],\n",
       "       [20001.70588],\n",
       "       [18021.70588],\n",
       "       [28284.58824],\n",
       "       [24833.29412],\n",
       "       [19281.70588],\n",
       "       [28284.58824],\n",
       "       [24833.29412],\n",
       "       [19281.70588],\n",
       "       [17067.88235],\n",
       "       [18921.70588],\n",
       "       [17067.88235],\n",
       "       [21847.47059],\n",
       "       [20047.47059],\n",
       "       [20047.47059],\n",
       "       [17481.70588],\n",
       "       [26020.     ],\n",
       "       [22980.     ],\n",
       "       [20350.     ],\n",
       "       [20350.     ],\n",
       "       [18090.     ],\n",
       "       [18090.     ],\n",
       "       [16110.     ],\n",
       "       [25300.     ],\n",
       "       [22260.     ],\n",
       "       [17370.     ],\n",
       "       [25300.     ],\n",
       "       [22260.     ],\n",
       "       [17370.     ],\n",
       "       [15420.     ],\n",
       "       [17010.     ],\n",
       "       [15420.     ],\n",
       "       [19630.     ],\n",
       "       [17830.     ],\n",
       "       [17830.     ],\n",
       "       [15570.     ],\n",
       "       [28226.     ],\n",
       "       [24882.     ],\n",
       "       [21989.     ],\n",
       "       [21989.     ],\n",
       "       [19503.     ],\n",
       "       [19503.     ],\n",
       "       [17523.     ],\n",
       "       [27506.     ],\n",
       "       [24162.     ],\n",
       "       [18783.     ],\n",
       "       [27506.     ],\n",
       "       [24162.     ],\n",
       "       [18783.     ],\n",
       "       [16638.     ],\n",
       "       [18423.     ],\n",
       "       [16638.     ],\n",
       "       [21269.     ],\n",
       "       [19469.     ],\n",
       "       [19469.     ],\n",
       "       [16983.     ],\n",
       "       [26020.     ],\n",
       "       [22980.     ],\n",
       "       [20350.     ],\n",
       "       [20350.     ],\n",
       "       [18090.     ],\n",
       "       [18090.     ],\n",
       "       [16110.     ],\n",
       "       [25300.     ],\n",
       "       [22260.     ],\n",
       "       [17370.     ],\n",
       "       [25300.     ],\n",
       "       [22260.     ],\n",
       "       [17370.     ],\n",
       "       [15420.     ],\n",
       "       [17010.     ],\n",
       "       [15420.     ],\n",
       "       [19630.     ],\n",
       "       [17830.     ],\n",
       "       [17830.     ],\n",
       "       [15570.     ],\n",
       "       [12180.     ],\n",
       "       [12180.     ],\n",
       "       [12180.     ],\n",
       "       [14687.64706],\n",
       "       [15045.88235],\n",
       "       [12896.47059],\n",
       "       [16120.58824],\n",
       "       [14544.35294],\n",
       "       [13827.88235],\n",
       "       [12180.     ],\n",
       "       [13398.     ],\n",
       "       [12180.     ],\n",
       "       [22060.     ],\n",
       "       [22060.     ],\n",
       "       [22060.     ],\n",
       "       [26601.76471],\n",
       "       [27250.58824],\n",
       "       [23357.64706],\n",
       "       [29197.05882],\n",
       "       [26342.23529],\n",
       "       [25044.58824],\n",
       "       [22060.     ],\n",
       "       [24266.     ],\n",
       "       [22060.     ]])"
      ]
     },
     "execution_count": 23,
     "metadata": {},
     "output_type": "execute_result"
    }
   ],
   "source": [
    "y"
   ]
  },
  {
   "cell_type": "markdown",
   "metadata": {},
   "source": [
    "# Scatter plot"
   ]
  },
  {
   "cell_type": "code",
   "execution_count": 24,
   "metadata": {},
   "outputs": [
    {
     "data": {
      "image/png": "[encoded data removed]",
      "text/plain": [
       "<Figure size 1008x432 with 1 Axes>"
      ]
     },
     "metadata": {
      "needs_background": "light"
     },
     "output_type": "display_data"
    }
   ],
   "source": [
    "plt.rcParams[\"figure.figsize\"]=[14,6]\n",
    "dataset.plot(x='Size_Production',y='Salary',style='.',color='blue',markersize=8)\n",
    "plt.title('Size_Production vs Salary')\n",
    "plt.xlabel('Size_Production')\n",
    "plt.ylabel('Salary')\n",
    "plt.grid()\n",
    "plt.show()"
   ]
  },
  {
   "cell_type": "markdown",
   "metadata": {},
   "source": [
    "# Divide the dataset into training and test set"
   ]
  },
  {
   "cell_type": "code",
   "execution_count": 25,
   "metadata": {},
   "outputs": [],
   "source": [
    "from sklearn.model_selection import train_test_split"
   ]
  },
  {
   "cell_type": "code",
   "execution_count": 26,
   "metadata": {},
   "outputs": [],
   "source": [
    "x_train, x_test, y_train, y_test = train_test_split(x,y,test_size = 0.3,random_state=100)"
   ]
  },
  {
   "cell_type": "code",
   "execution_count": 27,
   "metadata": {},
   "outputs": [
    {
     "data": {
      "text/plain": [
       "(184, 1)"
      ]
     },
     "execution_count": 27,
     "metadata": {},
     "output_type": "execute_result"
    }
   ],
   "source": [
    "x_train.shape"
   ]
  },
  {
   "cell_type": "code",
   "execution_count": 28,
   "metadata": {},
   "outputs": [
    {
     "data": {
      "text/plain": [
       "(80, 1)"
      ]
     },
     "execution_count": 28,
     "metadata": {},
     "output_type": "execute_result"
    }
   ],
   "source": [
    "x_test.shape"
   ]
  },
  {
   "cell_type": "code",
   "execution_count": 29,
   "metadata": {},
   "outputs": [
    {
     "data": {
      "text/plain": [
       "(184, 1)"
      ]
     },
     "execution_count": 29,
     "metadata": {},
     "output_type": "execute_result"
    }
   ],
   "source": [
    "y_train.shape"
   ]
  },
  {
   "cell_type": "code",
   "execution_count": 30,
   "metadata": {},
   "outputs": [
    {
     "data": {
      "text/plain": [
       "(80, 1)"
      ]
     },
     "execution_count": 30,
     "metadata": {},
     "output_type": "execute_result"
    }
   ],
   "source": [
    "y_test.shape"
   ]
  },
  {
   "cell_type": "markdown",
   "metadata": {},
   "source": [
    "# Perform the Linear Regression"
   ]
  },
  {
   "cell_type": "markdown",
   "metadata": {},
   "source": [
    "# Import the function"
   ]
  },
  {
   "cell_type": "code",
   "execution_count": 31,
   "metadata": {},
   "outputs": [],
   "source": [
    "from sklearn.linear_model import LinearRegression"
   ]
  },
  {
   "cell_type": "code",
   "execution_count": 32,
   "metadata": {},
   "outputs": [],
   "source": [
    "lm = LinearRegression()"
   ]
  },
  {
   "cell_type": "markdown",
   "metadata": {},
   "source": [
    "# Train the Model"
   ]
  },
  {
   "cell_type": "code",
   "execution_count": 33,
   "metadata": {},
   "outputs": [
    {
     "data": {
      "text/plain": [
       "LinearRegression()"
      ]
     },
     "execution_count": 33,
     "metadata": {},
     "output_type": "execute_result"
    }
   ],
   "source": [
    "lm.fit(x_train, y_train)"
   ]
  },
  {
   "cell_type": "markdown",
   "metadata": {},
   "source": [
    "# Predict the chance of admit - Testing phase"
   ]
  },
  {
   "cell_type": "code",
   "execution_count": 34,
   "metadata": {},
   "outputs": [],
   "source": [
    "y_pred = lm.predict(x_test)"
   ]
  },
  {
   "cell_type": "code",
   "execution_count": 35,
   "metadata": {},
   "outputs": [
    {
     "data": {
      "text/plain": [
       "array([[22741.26241756],\n",
       "       [21883.65478276],\n",
       "       [23098.59893206],\n",
       "       [22741.26241756],\n",
       "       [20954.57984505],\n",
       "       [19954.03760445],\n",
       "       [20025.50490735],\n",
       "       [21454.85096535],\n",
       "       [23098.59893206],\n",
       "       [20954.57984505],\n",
       "       [22598.32781176],\n",
       "       [21454.85096535],\n",
       "       [20025.50490735],\n",
       "       [21454.85096535],\n",
       "       [20954.57984505],\n",
       "       [19954.03760445],\n",
       "       [20025.50490735],\n",
       "       [24170.60847557],\n",
       "       [24170.60847557],\n",
       "       [21454.85096535],\n",
       "       [23098.59893206],\n",
       "       [20954.57984505],\n",
       "       [21454.85096535],\n",
       "       [21454.85096535],\n",
       "       [19954.03760445],\n",
       "       [19811.10299864],\n",
       "       [24170.60847557],\n",
       "       [19954.03760445],\n",
       "       [22741.26241756],\n",
       "       [23098.59893206],\n",
       "       [21883.65478276],\n",
       "       [22598.32781176],\n",
       "       [19811.10299864],\n",
       "       [21883.65478276],\n",
       "       [19811.10299864],\n",
       "       [20025.50490735],\n",
       "       [21883.65478276],\n",
       "       [19811.10299864],\n",
       "       [19811.10299864],\n",
       "       [20954.57984505],\n",
       "       [21454.85096535],\n",
       "       [18310.28963774],\n",
       "       [19954.03760445],\n",
       "       [21454.85096535],\n",
       "       [19811.10299864],\n",
       "       [20954.57984505],\n",
       "       [24170.60847557],\n",
       "       [24170.60847557],\n",
       "       [19739.63569574],\n",
       "       [22741.26241756],\n",
       "       [23098.59893206],\n",
       "       [22598.32781176],\n",
       "       [19954.03760445],\n",
       "       [19739.63569574],\n",
       "       [22598.32781176],\n",
       "       [21454.85096535],\n",
       "       [21883.65478276],\n",
       "       [19954.03760445],\n",
       "       [21454.85096535],\n",
       "       [19739.63569574],\n",
       "       [19739.63569574],\n",
       "       [22741.26241756],\n",
       "       [18310.28963774],\n",
       "       [22741.26241756],\n",
       "       [21883.65478276],\n",
       "       [20025.50490735],\n",
       "       [22598.32781176],\n",
       "       [19739.63569574],\n",
       "       [20025.50490735],\n",
       "       [22741.26241756],\n",
       "       [23098.59893206],\n",
       "       [19954.03760445],\n",
       "       [20025.50490735],\n",
       "       [24170.60847557],\n",
       "       [22598.32781176],\n",
       "       [20025.50490735],\n",
       "       [19811.10299864],\n",
       "       [19954.03760445],\n",
       "       [18310.28963774],\n",
       "       [18310.28963774]])"
      ]
     },
     "execution_count": 35,
     "metadata": {},
     "output_type": "execute_result"
    }
   ],
   "source": [
    "y_pred"
   ]
  },
  {
   "cell_type": "markdown",
   "metadata": {},
   "source": [
    "# Check our Prediction"
   ]
  },
  {
   "cell_type": "code",
   "execution_count": 36,
   "metadata": {},
   "outputs": [],
   "source": [
    "check = pd.DataFrame(x_test,columns = ['Size_Production'])"
   ]
  },
  {
   "cell_type": "code",
   "execution_count": 37,
   "metadata": {},
   "outputs": [],
   "source": [
    "check['Acutal Salary']=y_test"
   ]
  },
  {
   "cell_type": "code",
   "execution_count": 38,
   "metadata": {},
   "outputs": [],
   "source": [
    "check['Predicted Salary'] = y_pred"
   ]
  },
  {
   "cell_type": "code",
   "execution_count": 39,
   "metadata": {},
   "outputs": [
    {
     "data": {
      "text/html": [
       "<div>\n",
       "<style scoped>\n",
       "    .dataframe tbody tr th:only-of-type {\n",
       "        vertical-align: middle;\n",
       "    }\n",
       "\n",
       "    .dataframe tbody tr th {\n",
       "        vertical-align: top;\n",
       "    }\n",
       "\n",
       "    .dataframe thead th {\n",
       "        text-align: right;\n",
       "    }\n",
       "</style>\n",
       "<table border=\"1\" class=\"dataframe\">\n",
       "  <thead>\n",
       "    <tr style=\"text-align: right;\">\n",
       "      <th></th>\n",
       "      <th>Size_Production</th>\n",
       "      <th>Acutal Salary</th>\n",
       "      <th>Predicted Salary</th>\n",
       "    </tr>\n",
       "  </thead>\n",
       "  <tbody>\n",
       "    <tr>\n",
       "      <th>0</th>\n",
       "      <td>1200</td>\n",
       "      <td>14687.64706</td>\n",
       "      <td>22741.262418</td>\n",
       "    </tr>\n",
       "    <tr>\n",
       "      <th>1</th>\n",
       "      <td>1080</td>\n",
       "      <td>29004.58824</td>\n",
       "      <td>21883.654783</td>\n",
       "    </tr>\n",
       "    <tr>\n",
       "      <th>2</th>\n",
       "      <td>1250</td>\n",
       "      <td>27250.58824</td>\n",
       "      <td>23098.598932</td>\n",
       "    </tr>\n",
       "    <tr>\n",
       "      <th>3</th>\n",
       "      <td>1200</td>\n",
       "      <td>26601.76471</td>\n",
       "      <td>22741.262418</td>\n",
       "    </tr>\n",
       "    <tr>\n",
       "      <th>4</th>\n",
       "      <td>950</td>\n",
       "      <td>26597.64706</td>\n",
       "      <td>20954.579845</td>\n",
       "    </tr>\n",
       "    <tr>\n",
       "      <th>...</th>\n",
       "      <td>...</td>\n",
       "      <td>...</td>\n",
       "      <td>...</td>\n",
       "    </tr>\n",
       "    <tr>\n",
       "      <th>75</th>\n",
       "      <td>820</td>\n",
       "      <td>15420.00000</td>\n",
       "      <td>20025.504907</td>\n",
       "    </tr>\n",
       "    <tr>\n",
       "      <th>76</th>\n",
       "      <td>790</td>\n",
       "      <td>20350.00000</td>\n",
       "      <td>19811.102999</td>\n",
       "    </tr>\n",
       "    <tr>\n",
       "      <th>77</th>\n",
       "      <td>810</td>\n",
       "      <td>17370.00000</td>\n",
       "      <td>19954.037604</td>\n",
       "    </tr>\n",
       "    <tr>\n",
       "      <th>78</th>\n",
       "      <td>580</td>\n",
       "      <td>22260.00000</td>\n",
       "      <td>18310.289638</td>\n",
       "    </tr>\n",
       "    <tr>\n",
       "      <th>79</th>\n",
       "      <td>580</td>\n",
       "      <td>15420.00000</td>\n",
       "      <td>18310.289638</td>\n",
       "    </tr>\n",
       "  </tbody>\n",
       "</table>\n",
       "<p>80 rows × 3 columns</p>\n",
       "</div>"
      ],
      "text/plain": [
       "    Size_Production  Acutal Salary  Predicted Salary\n",
       "0              1200    14687.64706      22741.262418\n",
       "1              1080    29004.58824      21883.654783\n",
       "2              1250    27250.58824      23098.598932\n",
       "3              1200    26601.76471      22741.262418\n",
       "4               950    26597.64706      20954.579845\n",
       "..              ...            ...               ...\n",
       "75              820    15420.00000      20025.504907\n",
       "76              790    20350.00000      19811.102999\n",
       "77              810    17370.00000      19954.037604\n",
       "78              580    22260.00000      18310.289638\n",
       "79              580    15420.00000      18310.289638\n",
       "\n",
       "[80 rows x 3 columns]"
      ]
     },
     "execution_count": 39,
     "metadata": {},
     "output_type": "execute_result"
    }
   ],
   "source": [
    "check"
   ]
  },
  {
   "cell_type": "markdown",
   "metadata": {},
   "source": [
    "# Visualize the regressor line"
   ]
  },
  {
   "cell_type": "code",
   "execution_count": 41,
   "metadata": {},
   "outputs": [
    {
     "data": {
      "image/png": "[encoded data removed]",
      "text/plain": [
       "<Figure size 1008x432 with 1 Axes>"
      ]
     },
     "metadata": {
      "needs_background": "light"
     },
     "output_type": "display_data"
    }
   ],
   "source": [
    "plt.rcParams[\"figure.figsize\"]=[14,6]\n",
    "dataset.plot(x='Size_Production',y='Salary',style='.',color='blue',markersize=8)\n",
    "plt.plot(x_test,y_pred,color='red')\n",
    "plt.title('Size_Production vs Salary')\n",
    "plt.xlabel('Size_Production')\n",
    "plt.ylabel('Salary')\n",
    "plt.grid()\n",
    "plt.show()"
   ]
  }
 ],
 "metadata": {
  "kernelspec": {
   "display_name": "Python 3",
   "language": "python",
   "name": "python3"
  },
  "language_info": {
   "codemirror_mode": {
    "name": "ipython",
    "version": 3
   },
   "file_extension": ".py",
   "mimetype": "text/x-python",
   "name": "python",
   "nbconvert_exporter": "python",
   "pygments_lexer": "ipython3",
   "version": "3.8.5"
  }
 },
 "nbformat": 4,
 "nbformat_minor": 4
}
